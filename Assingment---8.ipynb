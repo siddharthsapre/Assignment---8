{
 "cells": [
  {
   "cell_type": "code",
   "execution_count": null,
   "id": "d834ddef-7143-448d-91fd-1d495d46733a",
   "metadata": {},
   "outputs": [],
   "source": [
    "def check_password(password):\n",
    "    if len(password)!=10:\n",
    "        return \"invalid password\"\n",
    "    count_uppercase=sum(1 for char in password if char.isupper())\n",
    "    count_lowercase=sum(1 for char in password if char.islower())    \n",
    "    digit_count=sum(1 for char in password if char.isdigit())\n",
    "    special_count=sum(1 for char in password if char in\"!@#$%^&*()<>?{}/|\")\n",
    "    if count_uppercase>=2 and count_lowercase>=2 and digit_count>=1 and special_count>=1:\n",
    "        return\"valid password\"\n",
    "    else:\n",
    "        return\"invalid password\"\n",
    "user_password=input(\"Enter your password\")\n",
    "result=check_password(user_password)\n",
    "print(result)"
   ]
  },
  {
   "cell_type": "raw",
   "id": "695427d4-5ac6-4bb3-b911-a50537c99ea9",
   "metadata": {},
   "source": [
    "Q2. Solve the below-given questions using at least one of the following:\n",
    "1. Lambda functioJ\n",
    "2. Filter functioJ\n",
    "3. Zap functioJ\n",
    "4. List ComprehensioI\n",
    "\n",
    "B Check if the string starts with a particular letter\n",
    "B Check if the string is numeric\n",
    "B Sort a list of tuples having fruit names and their quantity. [(\"mango\",99),(\"orange\",80), (\"grapes\", 1000)-\n",
    "B Find the squares of numbers from 1 to 10Y\n",
    "B Find the cube root of numbers from 1 to 10Y\n",
    "B Check if a given number is evenY\n",
    "B Filter odd numbers from the given list.\n",
    "[1,2,3,4,5,6,7,8,9,10-\n",
    "B Sort a list of integers into positive and negative integers lists.\n",
    "[1,2,3,4,5,6,-1,-2,-3,-4,-5,0]\n"
   ]
  },
  {
   "cell_type": "code",
   "execution_count": null,
   "id": "52620499-6465-4a98-a900-9d594b6d7f9a",
   "metadata": {},
   "outputs": [],
   "source": [
    "def test25(l):\n",
    "    for i in l:\n",
    "        if i[0]==\"S\":\n",
    "            return \"valid string\"\n",
    "    else:\n",
    "            return \"invalid string\"\n",
    "    "
   ]
  },
  {
   "cell_type": "code",
   "execution_count": null,
   "id": "a0f656c9-12b4-40c0-b88b-8fbf71859177",
   "metadata": {},
   "outputs": [],
   "source": [
    "list(map(test25,l))"
   ]
  },
  {
   "cell_type": "code",
   "execution_count": null,
   "id": "ee7244ef-a568-459e-85c4-e8f3739a9330",
   "metadata": {},
   "outputs": [],
   "source": [
    "l=(input(\"Enter the string\"))\n",
    "\n",
    "[\"Valid\" for i in l if i[0]==\"A\"]"
   ]
  },
  {
   "cell_type": "markdown",
   "id": "2cd1c794-ec40-4923-bb22-2305a2d5a02b",
   "metadata": {},
   "source": [
    "Check if the string is numeric"
   ]
  },
  {
   "cell_type": "code",
   "execution_count": null,
   "id": "8e0140d7-9fe0-4f76-904e-e623a0595063",
   "metadata": {},
   "outputs": [],
   "source": [
    "def type35(n):\n",
    "    return n.isdigit()\n",
    "\n",
    "enter_string=input(\"Enter the string of your choice\")"
   ]
  },
  {
   "cell_type": "code",
   "execution_count": null,
   "id": "cd149d71-2b19-41a5-824e-303b2be88447",
   "metadata": {},
   "outputs": [],
   "source": [
    "list(map(type35,enter_string))"
   ]
  },
  {
   "cell_type": "code",
   "execution_count": null,
   "id": "d66f6f2c-3124-4e3f-b1d2-42e4ee8425a2",
   "metadata": {},
   "outputs": [],
   "source": [
    "n=input(\"enter the string\")\n",
    "\n",
    "[\"Numeric string\" if n.isdigit() else \"Non-Numeric string\"]"
   ]
  },
  {
   "cell_type": "markdown",
   "id": "504b0b58-4c84-45e8-9c18-77dd42c874ef",
   "metadata": {},
   "source": [
    " Sort a list of tuples having fruit names and their quantity. [(\"mango\",99),(\"orange\",80), (\"grapes\", 1000)\n",
    " "
   ]
  },
  {
   "cell_type": "code",
   "execution_count": 1,
   "id": "b63fe69f-5b8b-4c97-9fe9-5b17313a8f16",
   "metadata": {},
   "outputs": [],
   "source": [
    "l=[(\"mango\",99),(\"orange\",80), (\"grapes\", 1000)]\n",
    "\n",
    "sorted_list=sorted(l,key=lambda x: x[1])"
   ]
  },
  {
   "cell_type": "code",
   "execution_count": 2,
   "id": "77956008-440c-4930-bdde-5c8131a3acc2",
   "metadata": {},
   "outputs": [
    {
     "name": "stdout",
     "output_type": "stream",
     "text": [
      "[('orange', 80), ('mango', 99), ('grapes', 1000)]\n"
     ]
    }
   ],
   "source": [
    "print(sorted_list)"
   ]
  },
  {
   "cell_type": "code",
   "execution_count": 3,
   "id": "d3e1cd61-ea4c-4537-a14f-e56769b01107",
   "metadata": {},
   "outputs": [],
   "source": [
    "sorted_list=sorted(l,key=lambda x: x[1], reverse=True)"
   ]
  },
  {
   "cell_type": "code",
   "execution_count": 4,
   "id": "1e1fc829-a370-4bc1-90c7-5b3f6de32feb",
   "metadata": {},
   "outputs": [
    {
     "name": "stdout",
     "output_type": "stream",
     "text": [
      "[('grapes', 1000), ('mango', 99), ('orange', 80)]\n"
     ]
    }
   ],
   "source": [
    "print(sorted_list)"
   ]
  },
  {
   "cell_type": "markdown",
   "id": "c82baed5-dbff-4bdf-9329-c2c4dfb53250",
   "metadata": {},
   "source": [
    "Find the squares of numbers from 1 to 10"
   ]
  },
  {
   "cell_type": "code",
   "execution_count": 5,
   "id": "f0576adb-48e3-446f-92b3-7956660f0643",
   "metadata": {},
   "outputs": [
    {
     "data": {
      "text/plain": [
       "[1, 4, 9, 16, 25, 36, 49, 64, 81, 100]"
      ]
     },
     "execution_count": 5,
     "metadata": {},
     "output_type": "execute_result"
    }
   ],
   "source": [
    "l=[1,2,3,4,5,6,7,8,9,10]\n",
    "\n",
    "list(map(lambda x:x**2,l))"
   ]
  },
  {
   "cell_type": "markdown",
   "id": "4d30895b-745d-4a79-a5d7-0dacd318e272",
   "metadata": {},
   "source": [
    "Find the cube root of numbers from 1 to 10"
   ]
  },
  {
   "cell_type": "code",
   "execution_count": 6,
   "id": "9bd491ad-63d1-4c02-8f4e-fe81aeb2a79e",
   "metadata": {},
   "outputs": [
    {
     "data": {
      "text/plain": [
       "[1.0,\n",
       " 1.2599210498948732,\n",
       " 1.4422495703074083,\n",
       " 1.5874010519681994,\n",
       " 1.7099759466766968,\n",
       " 1.8171205928321397,\n",
       " 1.912931182772389,\n",
       " 2.0,\n",
       " 2.080083823051904,\n",
       " 2.154434690031884]"
      ]
     },
     "execution_count": 6,
     "metadata": {},
     "output_type": "execute_result"
    }
   ],
   "source": [
    "list(map(lambda x:x**(1/3),l))"
   ]
  },
  {
   "cell_type": "markdown",
   "id": "3e8859b9-440d-4e30-8a42-692cf3916022",
   "metadata": {},
   "source": [
    "Check if a given number is even"
   ]
  },
  {
   "cell_type": "code",
   "execution_count": 1,
   "id": "a3b331e0-bb62-4d26-a8a1-d0da4b2662eb",
   "metadata": {},
   "outputs": [
    {
     "data": {
      "text/plain": [
       "['Number is odd', 'Number is even', 'Number is odd', 'Number is even']"
      ]
     },
     "execution_count": 1,
     "metadata": {},
     "output_type": "execute_result"
    }
   ],
   "source": [
    "l=[25,26,27,28]\n",
    "\n",
    "list(map(lambda x: \"Number is even\" if x%2==0 else \"Number is odd\",l))"
   ]
  },
  {
   "cell_type": "code",
   "execution_count": 2,
   "id": "738e3723-5bca-4c98-93b9-255c2dba23f3",
   "metadata": {},
   "outputs": [
    {
     "data": {
      "text/plain": [
       "[26, 28]"
      ]
     },
     "execution_count": 2,
     "metadata": {},
     "output_type": "execute_result"
    }
   ],
   "source": [
    "l=[25,26,27,28]\n",
    "\n",
    "list(filter(lambda x: x%2==0 ,l))"
   ]
  },
  {
   "cell_type": "markdown",
   "id": "bc30ee70-62c0-4ac8-a446-c2365b3cdb9c",
   "metadata": {},
   "source": [
    "Filter odd numbers from the given list.\n",
    "k=[1,2,3,4,5,6,7,8,9,10]"
   ]
  },
  {
   "cell_type": "code",
   "execution_count": 7,
   "id": "f9ac6a21-e585-430a-bce5-5139322bedf6",
   "metadata": {},
   "outputs": [
    {
     "data": {
      "text/plain": [
       "[1, 3, 5, 7, 9]"
      ]
     },
     "execution_count": 7,
     "metadata": {},
     "output_type": "execute_result"
    }
   ],
   "source": [
    "k=[1,2,3,4,5,6,7,8,9,10]\n",
    "list(filter(lambda x: x%2!=0,k))"
   ]
  },
  {
   "cell_type": "markdown",
   "id": "48a7e3eb-1074-4ddc-9699-07fece66b1ef",
   "metadata": {},
   "source": [
    "Sort a list of integers into positive and negative integers lists.\n",
    "[1,2,3,4,5,6,-1,-2,-3,-4,-5,0]"
   ]
  },
  {
   "cell_type": "code",
   "execution_count": null,
   "id": "30e9963f-1ec2-46dc-81da-77978268930b",
   "metadata": {},
   "outputs": [],
   "source": [
    "k=[1,2,3,4,5,6,-1,-2,-3,-4,-5,0]\n",
    "\n",
    "list(map(lambda x: \"Positive Intiger\" if x>0 else \"Negative Intiger\",k))"
   ]
  },
  {
   "cell_type": "code",
   "execution_count": null,
   "id": "0bad9583-89ee-45c1-a3c5-c7957c0c1074",
   "metadata": {},
   "outputs": [],
   "source": [
    "original_list = [1, 2, 3, 4, 5, 6, -1, -2, -3, -4, -5, 0]\n",
    "\n",
    "positive_list = list(filter(lambda x: x > 0, original_list))\n",
    "negative_list = list(filter(lambda x: x < 0, original_list))\n",
    "\n",
    "print(\"Original List:\", original_list)\n",
    "print(\"Positive Integers:\", positive_list)\n",
    "print(\"Negative Integers:\", negative_list)"
   ]
  },
  {
   "cell_type": "code",
   "execution_count": null,
   "id": "d2636abf-3f28-483a-9d48-a5c041d570fe",
   "metadata": {},
   "outputs": [],
   "source": []
  },
  {
   "cell_type": "code",
   "execution_count": null,
   "id": "256aec63-b2dd-4ebd-ba81-8dbde5956bd8",
   "metadata": {},
   "outputs": [],
   "source": []
  },
  {
   "cell_type": "code",
   "execution_count": null,
   "id": "9ccd878a-fb3f-4c36-b100-f871256f08cb",
   "metadata": {},
   "outputs": [],
   "source": []
  },
  {
   "cell_type": "code",
   "execution_count": null,
   "id": "8204dc8d-3759-46ba-88e2-9f35af9fcde4",
   "metadata": {},
   "outputs": [],
   "source": []
  },
  {
   "cell_type": "code",
   "execution_count": null,
   "id": "0663cf3d-e25e-4ad3-bdc0-591faec384e4",
   "metadata": {},
   "outputs": [],
   "source": []
  },
  {
   "cell_type": "code",
   "execution_count": null,
   "id": "30f90a91-a16e-41b9-abd7-011b86f02608",
   "metadata": {},
   "outputs": [],
   "source": []
  }
 ],
 "metadata": {
  "kernelspec": {
   "display_name": "Python 3 (ipykernel)",
   "language": "python",
   "name": "python3"
  },
  "language_info": {
   "codemirror_mode": {
    "name": "ipython",
    "version": 3
   },
   "file_extension": ".py",
   "mimetype": "text/x-python",
   "name": "python",
   "nbconvert_exporter": "python",
   "pygments_lexer": "ipython3",
   "version": "3.10.8"
  }
 },
 "nbformat": 4,
 "nbformat_minor": 5
}
